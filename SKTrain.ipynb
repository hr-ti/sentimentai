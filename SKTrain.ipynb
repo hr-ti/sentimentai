{
 "cells": [
  {
   "cell_type": "code",
   "execution_count": 2,
   "metadata": {},
   "outputs": [],
   "source": [
    "import pandas as pd"
   ]
  },
  {
   "cell_type": "code",
   "execution_count": 3,
   "metadata": {},
   "outputs": [],
   "source": [
    "df = pd.read_csv('withoutstop.csv')"
   ]
  },
  {
   "cell_type": "code",
   "execution_count": 5,
   "metadata": {},
   "outputs": [
    {
     "data": {
      "text/html": [
       "<div>\n",
       "<style scoped>\n",
       "    .dataframe tbody tr th:only-of-type {\n",
       "        vertical-align: middle;\n",
       "    }\n",
       "\n",
       "    .dataframe tbody tr th {\n",
       "        vertical-align: top;\n",
       "    }\n",
       "\n",
       "    .dataframe thead th {\n",
       "        text-align: right;\n",
       "    }\n",
       "</style>\n",
       "<table border=\"1\" class=\"dataframe\">\n",
       "  <thead>\n",
       "    <tr style=\"text-align: right;\">\n",
       "      <th></th>\n",
       "      <th>Unnamed: 0</th>\n",
       "      <th>stopwords</th>\n",
       "    </tr>\n",
       "  </thead>\n",
       "  <tbody>\n",
       "    <tr>\n",
       "      <th>0</th>\n",
       "      <td>0</td>\n",
       "      <td>heart filling desk means sales amp it\u0001\u0002off desk</td>\n",
       "    </tr>\n",
       "    <tr>\n",
       "      <th>1</th>\n",
       "      <td>1</td>\n",
       "      <td>people create prettier younger better looking ...</td>\n",
       "    </tr>\n",
       "    <tr>\n",
       "      <th>2</th>\n",
       "      <td>2</td>\n",
       "      <td>way\u0001\u0002dont want tour end</td>\n",
       "    </tr>\n",
       "    <tr>\n",
       "      <th>3</th>\n",
       "      <td>3</td>\n",
       "      <td>\u0001\u0002zing brother sending l\u0001\u0002tless love way twitt...</td>\n",
       "    </tr>\n",
       "    <tr>\n",
       "      <th>4</th>\n",
       "      <td>4</td>\n",
       "      <td>ch\u0001\u0002late</td>\n",
       "    </tr>\n",
       "    <tr>\n",
       "      <th>...</th>\n",
       "      <td>...</td>\n",
       "      <td>...</td>\n",
       "    </tr>\n",
       "    <tr>\n",
       "      <th>999995</th>\n",
       "      <td>999995</td>\n",
       "      <td>\u0001\u0002m good buy \u0001\u0002ctric horse</td>\n",
       "    </tr>\n",
       "    <tr>\n",
       "      <th>999996</th>\n",
       "      <td>999996</td>\n",
       "      <td>\u0001\u0002know youngerr boys am\u0001\u0002doing lifee but\u0001\u0002will...</td>\n",
       "    </tr>\n",
       "    <tr>\n",
       "      <th>999997</th>\n",
       "      <td>999997</td>\n",
       "      <td>can\u0001\u0002belive it\u0001\u0002just got asked autograph good</td>\n",
       "    </tr>\n",
       "    <tr>\n",
       "      <th>999998</th>\n",
       "      <td>999998</td>\n",
       "      <td>putting bb fridge cant distract bye twitter world</td>\n",
       "    </tr>\n",
       "    <tr>\n",
       "      <th>999999</th>\n",
       "      <td>999999</td>\n",
       "      <td>lexo wont come v\u0001\u0002t</td>\n",
       "    </tr>\n",
       "  </tbody>\n",
       "</table>\n",
       "<p>1000000 rows × 2 columns</p>\n",
       "</div>"
      ],
      "text/plain": [
       "        Unnamed: 0                                          stopwords\n",
       "0                0    heart filling desk means sales amp it\u0001\u0002off desk\n",
       "1                1  people create prettier younger better looking ...\n",
       "2                2                            way\u0001\u0002dont want tour end\n",
       "3                3  \u0001\u0002zing brother sending l\u0001\u0002tless love way twitt...\n",
       "4                4                                           ch\u0001\u0002late\n",
       "...            ...                                                ...\n",
       "999995      999995                         \u0001\u0002m good buy \u0001\u0002ctric horse\n",
       "999996      999996  \u0001\u0002know youngerr boys am\u0001\u0002doing lifee but\u0001\u0002will...\n",
       "999997      999997      can\u0001\u0002belive it\u0001\u0002just got asked autograph good\n",
       "999998      999998  putting bb fridge cant distract bye twitter world\n",
       "999999      999999                                lexo wont come v\u0001\u0002t\n",
       "\n",
       "[1000000 rows x 2 columns]"
      ]
     },
     "execution_count": 5,
     "metadata": {},
     "output_type": "execute_result"
    }
   ],
   "source": [
    "df"
   ]
  },
  {
   "cell_type": "code",
   "execution_count": 4,
   "metadata": {},
   "outputs": [],
   "source": [
    "from sklearn.feature_extraction.text import CountVectorizer\n",
    "from sklearn.model_selection import train_test_split"
   ]
  },
  {
   "cell_type": "code",
   "execution_count": 11,
   "metadata": {},
   "outputs": [
    {
     "data": {
      "text/plain": [
       "'heart filling desk means sales amp it\\x01\\x02off desk'"
      ]
     },
     "execution_count": 11,
     "metadata": {},
     "output_type": "execute_result"
    }
   ],
   "source": [
    "df.stopwords[0]"
   ]
  },
  {
   "cell_type": "code",
   "execution_count": 12,
   "metadata": {},
   "outputs": [],
   "source": [
    "vectorizer = CountVectorizer()\n",
    "X = vectorizer.fit_transform(df.stopwords.values.astype('U'))\n"
   ]
  },
  {
   "cell_type": "code",
   "execution_count": 16,
   "metadata": {},
   "outputs": [],
   "source": [
    "dfOrig = pd.read_csv('data/training_data.csv')"
   ]
  },
  {
   "cell_type": "code",
   "execution_count": 19,
   "metadata": {},
   "outputs": [
    {
     "data": {
      "text/html": [
       "<div>\n",
       "<style scoped>\n",
       "    .dataframe tbody tr th:only-of-type {\n",
       "        vertical-align: middle;\n",
       "    }\n",
       "\n",
       "    .dataframe tbody tr th {\n",
       "        vertical-align: top;\n",
       "    }\n",
       "\n",
       "    .dataframe thead th {\n",
       "        text-align: right;\n",
       "    }\n",
       "</style>\n",
       "<table border=\"1\" class=\"dataframe\">\n",
       "  <thead>\n",
       "    <tr style=\"text-align: right;\">\n",
       "      <th></th>\n",
       "      <th>ID</th>\n",
       "      <th>User</th>\n",
       "      <th>Text</th>\n",
       "      <th>Sentiment</th>\n",
       "    </tr>\n",
       "  </thead>\n",
       "  <tbody>\n",
       "    <tr>\n",
       "      <th>0</th>\n",
       "      <td>864192</td>\n",
       "      <td>Carly_FTS</td>\n",
       "      <td>I *heart* filling up @dennisschaub desk   1 it...</td>\n",
       "      <td>1</td>\n",
       "    </tr>\n",
       "    <tr>\n",
       "      <th>1</th>\n",
       "      <td>523691</td>\n",
       "      <td>Open_Sourcing</td>\n",
       "      <td>#SocioMat - people create prettier, younger an...</td>\n",
       "      <td>1</td>\n",
       "    </tr>\n",
       "    <tr>\n",
       "      <th>2</th>\n",
       "      <td>584154</td>\n",
       "      <td>xxcharlx</td>\n",
       "      <td>no way i dont want the tour to end</td>\n",
       "      <td>0</td>\n",
       "    </tr>\n",
       "    <tr>\n",
       "      <th>3</th>\n",
       "      <td>1527961</td>\n",
       "      <td>andreapuddu</td>\n",
       "      <td>@HemalRadia Hi Amazing Brother! Sending Limitl...</td>\n",
       "      <td>1</td>\n",
       "    </tr>\n",
       "    <tr>\n",
       "      <th>4</th>\n",
       "      <td>28609</td>\n",
       "      <td>umbec</td>\n",
       "      <td>@flockmaster they are chocolate</td>\n",
       "      <td>1</td>\n",
       "    </tr>\n",
       "    <tr>\n",
       "      <th>...</th>\n",
       "      <td>...</td>\n",
       "      <td>...</td>\n",
       "      <td>...</td>\n",
       "      <td>...</td>\n",
       "    </tr>\n",
       "    <tr>\n",
       "      <th>999995</th>\n",
       "      <td>1366175</td>\n",
       "      <td>b13thy</td>\n",
       "      <td>@midderhonz i'm good.. off to buy an electric ...</td>\n",
       "      <td>1</td>\n",
       "    </tr>\n",
       "    <tr>\n",
       "      <th>999996</th>\n",
       "      <td>681828</td>\n",
       "      <td>HeyyitsALison</td>\n",
       "      <td>@StaceyPaha i know..for youngerr boys..what am...</td>\n",
       "      <td>1</td>\n",
       "    </tr>\n",
       "    <tr>\n",
       "      <th>999997</th>\n",
       "      <td>488988</td>\n",
       "      <td>sleepycove</td>\n",
       "      <td>I can't belive it I just got asked for an auto...</td>\n",
       "      <td>1</td>\n",
       "    </tr>\n",
       "    <tr>\n",
       "      <th>999998</th>\n",
       "      <td>985613</td>\n",
       "      <td>AmyyXD</td>\n",
       "      <td>i am putting my bb in the fridge so it cant di...</td>\n",
       "      <td>0</td>\n",
       "    </tr>\n",
       "    <tr>\n",
       "      <th>999999</th>\n",
       "      <td>1410994</td>\n",
       "      <td>esmeretta</td>\n",
       "      <td>lexo wont come visit me</td>\n",
       "      <td>0</td>\n",
       "    </tr>\n",
       "  </tbody>\n",
       "</table>\n",
       "<p>1000000 rows × 4 columns</p>\n",
       "</div>"
      ],
      "text/plain": [
       "             ID           User  \\\n",
       "0        864192      Carly_FTS   \n",
       "1        523691  Open_Sourcing   \n",
       "2        584154       xxcharlx   \n",
       "3       1527961    andreapuddu   \n",
       "4         28609          umbec   \n",
       "...         ...            ...   \n",
       "999995  1366175         b13thy   \n",
       "999996   681828  HeyyitsALison   \n",
       "999997   488988     sleepycove   \n",
       "999998   985613         AmyyXD   \n",
       "999999  1410994      esmeretta   \n",
       "\n",
       "                                                     Text  Sentiment  \n",
       "0       I *heart* filling up @dennisschaub desk   1 it...          1  \n",
       "1       #SocioMat - people create prettier, younger an...          1  \n",
       "2                     no way i dont want the tour to end           0  \n",
       "3       @HemalRadia Hi Amazing Brother! Sending Limitl...          1  \n",
       "4                        @flockmaster they are chocolate           1  \n",
       "...                                                   ...        ...  \n",
       "999995  @midderhonz i'm good.. off to buy an electric ...          1  \n",
       "999996  @StaceyPaha i know..for youngerr boys..what am...          1  \n",
       "999997  I can't belive it I just got asked for an auto...          1  \n",
       "999998  i am putting my bb in the fridge so it cant di...          0  \n",
       "999999                           lexo wont come visit me           0  \n",
       "\n",
       "[1000000 rows x 4 columns]"
      ]
     },
     "execution_count": 19,
     "metadata": {},
     "output_type": "execute_result"
    }
   ],
   "source": [
    "dfOrig"
   ]
  },
  {
   "cell_type": "code",
   "execution_count": 32,
   "metadata": {},
   "outputs": [],
   "source": [
    "X_train, X_test, y_train, y_test = train_test_split(X, dfOrig.Sentiment, test_size=0.2)"
   ]
  },
  {
   "cell_type": "code",
   "execution_count": 33,
   "metadata": {},
   "outputs": [],
   "source": [
    "from sklearn.linear_model import LogisticRegression\n"
   ]
  },
  {
   "cell_type": "code",
   "execution_count": 34,
   "metadata": {},
   "outputs": [
    {
     "data": {
      "text/plain": [
       "177179    1\n",
       "920153    1\n",
       "241545    1\n",
       "496052    1\n",
       "729539    0\n",
       "         ..\n",
       "862397    0\n",
       "669223    0\n",
       "459015    0\n",
       "440850    0\n",
       "671396    0\n",
       "Name: Sentiment, Length: 800000, dtype: int64"
      ]
     },
     "execution_count": 34,
     "metadata": {},
     "output_type": "execute_result"
    }
   ],
   "source": [
    "y_train"
   ]
  },
  {
   "cell_type": "code",
   "execution_count": 39,
   "metadata": {},
   "outputs": [],
   "source": [
    "clf = LogisticRegression(max_iter=10000).fit(X_train, y_train)\n"
   ]
  },
  {
   "cell_type": "code",
   "execution_count": 38,
   "metadata": {},
   "outputs": [
    {
     "data": {
      "text/plain": [
       "LogisticRegression(random_state=0)"
      ]
     },
     "execution_count": 38,
     "metadata": {},
     "output_type": "execute_result"
    }
   ],
   "source": []
  },
  {
   "cell_type": "code",
   "execution_count": 37,
   "metadata": {},
   "outputs": [
    {
     "data": {
      "text/plain": [
       "177179    1\n",
       "920153    1\n",
       "241545    1\n",
       "496052    1\n",
       "729539    0\n",
       "         ..\n",
       "862397    0\n",
       "669223    0\n",
       "459015    0\n",
       "440850    0\n",
       "671396    0\n",
       "Name: Sentiment, Length: 800000, dtype: int64"
      ]
     },
     "execution_count": 37,
     "metadata": {},
     "output_type": "execute_result"
    }
   ],
   "source": []
  },
  {
   "cell_type": "code",
   "execution_count": null,
   "metadata": {},
   "outputs": [],
   "source": []
  }
 ],
 "metadata": {
  "kernelspec": {
   "display_name": "Python 3",
   "language": "python",
   "name": "python3"
  },
  "language_info": {
   "codemirror_mode": {
    "name": "ipython",
    "version": 3
   },
   "file_extension": ".py",
   "mimetype": "text/x-python",
   "name": "python",
   "nbconvert_exporter": "python",
   "pygments_lexer": "ipython3",
   "version": "3.9.1"
  }
 },
 "nbformat": 4,
 "nbformat_minor": 4
}
